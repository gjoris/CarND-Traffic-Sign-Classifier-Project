{
 "cells": [
  {
   "cell_type": "markdown",
   "metadata": {},
   "source": [
    "# Self-Driving Car Engineer Nanodegree\n",
    "\n",
    "## Deep Learning\n",
    "\n",
    "## Project: Build a Traffic Sign Recognition Classifier\n",
    "\n",
    "In this notebook, a template is provided for you to implement your functionality in stages which is required to successfully complete this project. If additional code is required that cannot be included in the notebook, be sure that the Python code is successfully imported and included in your submission, if necessary. Sections that begin with **'Implementation'** in the header indicate where you should begin your implementation for your project. Note that some sections of implementation are optional, and will be marked with **'Optional'** in the header.\n",
    "\n",
    "In addition to implementing code, there will be questions that you must answer which relate to the project and your implementation. Each section where you will answer a question is preceded by a **'Question'** header. Carefully read each question and provide thorough answers in the following text boxes that begin with **'Answer:'**. Your project submission will be evaluated based on your answers to each of the questions and the implementation you provide.\n",
    "\n",
    ">**Note:** Code and Markdown cells can be executed using the **Shift + Enter** keyboard shortcut. In addition, Markdown cells can be edited by typically double-clicking the cell to enter edit mode."
   ]
  },
  {
   "cell_type": "markdown",
   "metadata": {},
   "source": [
    "---\n",
    "## Step 0: Load The Data"
   ]
  },
  {
   "cell_type": "code",
   "execution_count": 1,
   "metadata": {
    "collapsed": true
   },
   "outputs": [],
   "source": [
    "# Load pickled data\n",
    "import pickle\n",
    "\n",
    "# TODO: Fill this in based on where you saved the training and testing data\n",
    "\n",
    "training_file = 'trafficsigns/train.p'\n",
    "testing_file = 'trafficsigns/test.p'\n",
    "\n",
    "with open(training_file, mode='rb') as f:\n",
    "    train = pickle.load(f)\n",
    "with open(testing_file, mode='rb') as f:\n",
    "    test = pickle.load(f)\n",
    "    \n",
    "X_train, y_train = train['features'], train['labels']\n",
    "X_test, y_test = test['features'], test['labels']"
   ]
  },
  {
   "cell_type": "markdown",
   "metadata": {},
   "source": [
    "---\n",
    "\n",
    "## Step 1: Dataset Summary & Exploration\n",
    "\n",
    "The pickled data is a dictionary with 4 key/value pairs:\n",
    "\n",
    "- `'features'` is a 4D array containing raw pixel data of the traffic sign images, (num examples, width, height, channels).\n",
    "- `'labels'` is a 1D array containing the label/class id of the traffic sign. The file `signnames.csv` contains id -> name mappings for each id.\n",
    "- `'sizes'` is a list containing tuples, (width, height) representing the the original width and height the image.\n",
    "- `'coords'` is a list containing tuples, (x1, y1, x2, y2) representing coordinates of a bounding box around the sign in the image. **THESE COORDINATES ASSUME THE ORIGINAL IMAGE. THE PICKLED DATA CONTAINS RESIZED VERSIONS (32 by 32) OF THESE IMAGES**\n",
    "\n",
    "Complete the basic data summary below."
   ]
  },
  {
   "cell_type": "code",
   "execution_count": 2,
   "metadata": {
    "collapsed": true
   },
   "outputs": [],
   "source": [
    "from sklearn.model_selection import train_test_split\n",
    "\n",
    "X_train, X_validation, y_train, y_validation = train_test_split(X_train, y_train, test_size=0.2, random_state=0)"
   ]
  },
  {
   "cell_type": "code",
   "execution_count": 3,
   "metadata": {
    "collapsed": false
   },
   "outputs": [
    {
     "name": "stdout",
     "output_type": "stream",
     "text": [
      "39209\n",
      "12630\n",
      "(32, 32, 3)\n",
      "43\n"
     ]
    }
   ],
   "source": [
    "print(len(train['features']))\n",
    "print(len(test['features']))\n",
    "print(X_train[0].shape)\n",
    "print(len(set(train['labels'])))"
   ]
  },
  {
   "cell_type": "code",
   "execution_count": 4,
   "metadata": {
    "collapsed": false
   },
   "outputs": [
    {
     "name": "stdout",
     "output_type": "stream",
     "text": [
      "Number of training examples = 39209\n",
      "Number of testing examples = 12630\n",
      "Image data shape = (32, 32, 3)\n",
      "Number of classes = 43\n"
     ]
    }
   ],
   "source": [
    "### Replace each question mark with the appropriate value.\n",
    "\n",
    "# TODO: Number of training examples\n",
    "n_train = len(train['features'])\n",
    "\n",
    "# TODO: Number of testing examples.\n",
    "n_test = len(test['features'])\n",
    "\n",
    "# TODO: What's the shape of an traffic sign image?\n",
    "image_shape = X_train[0].shape\n",
    "\n",
    "# TODO: How many unique classes/labels there are in the dataset.\n",
    "n_classes = len(set(train['labels']))\n",
    "\n",
    "print(\"Number of training examples =\", n_train)\n",
    "print(\"Number of testing examples =\", n_test)\n",
    "print(\"Image data shape =\", image_shape)\n",
    "print(\"Number of classes =\", n_classes)"
   ]
  },
  {
   "cell_type": "markdown",
   "metadata": {},
   "source": [
    "Visualize the German Traffic Signs Dataset using the pickled file(s). This is open ended, suggestions include: plotting traffic sign images, plotting the count of each sign, etc.\n",
    "\n",
    "The [Matplotlib](http://matplotlib.org/) [examples](http://matplotlib.org/examples/index.html) and [gallery](http://matplotlib.org/gallery.html) pages are a great resource for doing visualizations in Python.\n",
    "\n",
    "**NOTE:** It's recommended you start with something simple first. If you wish to do more, come back to it after you've completed the rest of the sections."
   ]
  },
  {
   "cell_type": "markdown",
   "metadata": {},
   "source": [
    "So, to explore the data, I assumed that the simplest thing to do, was to plot a histogram of the data. We can divide it in n_classes, which we calculated above. Perhaps, later on, I can revisit, to add more interesting models. "
   ]
  },
  {
   "cell_type": "code",
   "execution_count": 5,
   "metadata": {
    "collapsed": false
   },
   "outputs": [
    {
     "name": "stdout",
     "output_type": "stream",
     "text": [
      "10\n"
     ]
    },
    {
     "data": {
      "image/png": "[encoded data removed]",
      "text/plain": [
       "<matplotlib.figure.Figure at 0x7f82bb54d240>"
      ]
     },
     "metadata": {},
     "output_type": "display_data"
    }
   ],
   "source": [
    "### Data exploration visualization goes here.\n",
    "### Feel free to use as many code cells as needed.\n",
    "import random\n",
    "import numpy as np\n",
    "import matplotlib.pyplot as plt\n",
    "%matplotlib inline\n",
    "\n",
    "def rgb2gray(rgb):\n",
    "    return np.dot(rgb[...,:3], [0.299, 0.587, 0.114])\n",
    "\n",
    "index = random.randint(0, len(X_train))\n",
    "image = X_train[index].squeeze()\n",
    "\n",
    "plt.figure(figsize=(1,1))\n",
    "plt.imshow(image)\n",
    "print(y_train[index])"
   ]
  },
  {
   "cell_type": "code",
   "execution_count": 6,
   "metadata": {
    "collapsed": false
   },
   "outputs": [
    {
     "data": {
      "text/plain": [
       "(array([  169.,  1781.,  1799.,  1134.,  1578.,  1485.,   332.,  1143.,\n",
       "         1147.,  1189.,  1619.,  1040.,  1691.,  1730.,   614.,   513.,\n",
       "          329.,   884.,   982.,   176.,   286.,   261.,   313.,   411.,\n",
       "          203.,  1181.,   467.,   193.,   415.,   212.,   349.,   623.,\n",
       "          201.,   576.,   348.,   983.,   317.,   161.,  1627.,   235.,\n",
       "          289.,   186.,   195.]),\n",
       " array([  0.        ,   0.97674419,   1.95348837,   2.93023256,\n",
       "          3.90697674,   4.88372093,   5.86046512,   6.8372093 ,\n",
       "          7.81395349,   8.79069767,   9.76744186,  10.74418605,\n",
       "         11.72093023,  12.69767442,  13.6744186 ,  14.65116279,\n",
       "         15.62790698,  16.60465116,  17.58139535,  18.55813953,\n",
       "         19.53488372,  20.51162791,  21.48837209,  22.46511628,\n",
       "         23.44186047,  24.41860465,  25.39534884,  26.37209302,\n",
       "         27.34883721,  28.3255814 ,  29.30232558,  30.27906977,\n",
       "         31.25581395,  32.23255814,  33.20930233,  34.18604651,\n",
       "         35.1627907 ,  36.13953488,  37.11627907,  38.09302326,\n",
       "         39.06976744,  40.04651163,  41.02325581,  42.        ]),\n",
       " <a list of 43 Patch objects>)"
      ]
     },
     "execution_count": 6,
     "metadata": {},
     "output_type": "execute_result"
    },
    {
     "data": {
      "image/png": "[encoded data removed]",
      "text/plain": [
       "<matplotlib.figure.Figure at 0x7f82fc70b0b8>"
      ]
     },
     "metadata": {},
     "output_type": "display_data"
    }
   ],
   "source": [
    "import matplotlib.pyplot as plt\n",
    "%matplotlib inline\n",
    "\n",
    "plt.hist(y_train, bins = n_classes)"
   ]
  },
  {
   "cell_type": "markdown",
   "metadata": {},
   "source": [
    "----\n",
    "\n",
    "## Step 2: Design and Test a Model Architecture\n",
    "\n",
    "Design and implement a deep learning model that learns to recognize traffic signs. Train and test your model on the [German Traffic Sign Dataset](http://benchmark.ini.rub.de/?section=gtsrb&subsection=dataset).\n",
    "\n",
    "There are various aspects to consider when thinking about this problem:\n",
    "\n",
    "- Neural network architecture\n",
    "- Play around preprocessing techniques (normalization, rgb to grayscale, etc)\n",
    "- Number of examples per label (some have more than others).\n",
    "- Generate fake data.\n",
    "\n",
    "Here is an example of a [published baseline model on this problem](http://yann.lecun.com/exdb/publis/pdf/sermanet-ijcnn-11.pdf). It's not required to be familiar with the approach used in the paper but, it's good practice to try to read papers like these.\n",
    "\n",
    "**NOTE:** The LeNet-5 implementation shown in the [classroom](https://classroom.udacity.com/nanodegrees/nd013/parts/fbf77062-5703-404e-b60c-95b78b2f3f9e/modules/6df7ae49-c61c-4bb2-a23e-6527e69209ec/lessons/601ae704-1035-4287-8b11-e2c2716217ad/concepts/d4aca031-508f-4e0b-b493-e7b706120f81) at the end of the CNN lesson is a solid starting point. You'll have to change the number of classes and possibly the preprocessing, but aside from that it's plug and play!"
   ]
  },
  {
   "cell_type": "markdown",
   "metadata": {},
   "source": [
    "### Implementation\n",
    "\n",
    "Use the code cell (or multiple code cells, if necessary) to implement the first step of your project. Once you have completed your implementation and are satisfied with the results, be sure to thoroughly answer the questions that follow."
   ]
  },
  {
   "cell_type": "code",
   "execution_count": 7,
   "metadata": {
    "collapsed": true
   },
   "outputs": [],
   "source": [
    "### Preprocess the data here.\n",
    "### Feel free to use as many code cells as needed.\n",
    "from sklearn.utils import shuffle\n",
    "\n",
    "X_train, y_train = shuffle(X_train, y_train)"
   ]
  },
  {
   "cell_type": "markdown",
   "metadata": {},
   "source": [
    "### Question 1 \n",
    "\n",
    "_Describe how you preprocessed the data. Why did you choose that technique?_"
   ]
  },
  {
   "cell_type": "markdown",
   "metadata": {},
   "source": [
    "**Answer:**"
   ]
  },
  {
   "cell_type": "markdown",
   "metadata": {},
   "source": [
    "For now, I opted to follow the technique of shuffling the data. The reason for this is that my network wouldn't be biased because of the training data, in that it would be dependent on this data.\n",
    "\n",
    "A second option I tried, was going for a grayscale option of the images. Conceptually, color does not have to play a big part in processing the images, I believed. When looking at the problem from a shape-view, all the different traffic signs could be discovered without any color. After all, color blind people have to understand traffic signs too. \n",
    "Grayscaling could also have the neural network perform better.\n",
    "However, all things considered, grayscaling didn't help much. I did leave the basic rgb code, maybe to revisit afterwards."
   ]
  },
  {
   "cell_type": "code",
   "execution_count": 8,
   "metadata": {
    "collapsed": true
   },
   "outputs": [],
   "source": [
    "### Generate additional data (OPTIONAL!)\n",
    "### and split the data into training/validation/testing sets here.\n",
    "### Feel free to use as many code cells as needed."
   ]
  },
  {
   "cell_type": "markdown",
   "metadata": {},
   "source": [
    "### Question 2\n",
    "\n",
    "_Describe how you set up the training, validation and testing data for your model. **Optional**: If you generated additional data, how did you generate the data? Why did you generate the data? What are the differences in the new dataset (with generated data) from the original dataset?_"
   ]
  },
  {
   "cell_type": "markdown",
   "metadata": {},
   "source": [
    "**Answer:**"
   ]
  },
  {
   "cell_type": "markdown",
   "metadata": {},
   "source": [
    "I'm afraid my answer is rather short here: I went on from the data we received for this assignment.\n",
    "The addition I made for the validation dataset, was to split off 20% of the data for the validation of the model (see at the top). \n",
    "\n",
    "At this point, I was still grasping everything I had to do here, so I did not go on to add additional data. \n",
    "//Some time later: I did not add further data. The deadline for the lab is over at this point, so I'm going to go ahead and submit this, and revisit this later on. "
   ]
  },
  {
   "cell_type": "code",
   "execution_count": 9,
   "metadata": {
    "collapsed": true
   },
   "outputs": [],
   "source": [
    "### Define your architecture here.\n",
    "### Feel free to use as many code cells as needed.\n",
    "import tensorflow as tf\n",
    "\n",
    "EPOCHS = 15\n",
    "BATCH_SIZE = 128"
   ]
  },
  {
   "cell_type": "code",
   "execution_count": 10,
   "metadata": {
    "collapsed": true
   },
   "outputs": [],
   "source": [
    "from tensorflow.contrib.layers import flatten\n",
    "\n",
    "def LeNet(x):    \n",
    "    # Arguments used for tf.truncated_normal, randomly defines variables for the weights and biases for each layer\n",
    "    mu = 0\n",
    "    sigma = 0.1\n",
    "    \n",
    "    # SOLUTION: Layer 1: Convolutional. Input = 32x32x1. Output = 28x28x6.\n",
    "    conv1_W = tf.Variable(tf.truncated_normal(shape=(5, 5, 3, 6), mean = mu, stddev = sigma))\n",
    "    conv1_b = tf.Variable(tf.zeros(6))\n",
    "    conv1   = tf.nn.conv2d(x, conv1_W, strides=[1, 1, 1, 1], padding='VALID') + conv1_b\n",
    "\n",
    "    # SOLUTION: Activation.\n",
    "    conv1 = tf.nn.relu(conv1)\n",
    "\n",
    "    # SOLUTION: Pooling. Input = 28x28x6. Output = 14x14x6.\n",
    "    conv1 = tf.nn.avg_pool(conv1, ksize=[1, 2, 2, 1], strides=[1, 2, 2, 1], padding='VALID')\n",
    "\n",
    "    # SOLUTION: Layer 2: Convolutional. Output = 10x10x16.\n",
    "    conv2_W = tf.Variable(tf.truncated_normal(shape=(5, 5, 6, 16), mean = mu, stddev = sigma))\n",
    "    conv2_b = tf.Variable(tf.zeros(16))\n",
    "    conv2   = tf.nn.conv2d(conv1, conv2_W, strides=[1, 1, 1, 1], padding='VALID') + conv2_b\n",
    "    \n",
    "    # SOLUTION: Activation.\n",
    "    conv2 = tf.nn.relu(conv2)\n",
    "\n",
    "    # SOLUTION: Pooling. Input = 10x10x16. Output = 5x5x16.\n",
    "    conv2 = tf.nn.avg_pool(conv2, ksize=[1, 2, 2, 1], strides=[1, 2, 2, 1], padding='VALID')\n",
    "\n",
    "    # SOLUTION: Flatten. Input = 5x5x16. Output = 400.\n",
    "    fc0   = flatten(conv2)\n",
    "    \n",
    "    # SOLUTION: Layer 3: Fully Connected. Input = 400. Output = 120.\n",
    "    fc1_W = tf.Variable(tf.truncated_normal(shape=(400, 120), mean = mu, stddev = sigma))\n",
    "    fc1_b = tf.Variable(tf.zeros(120))\n",
    "    fc1   = tf.matmul(fc0, fc1_W) + fc1_b\n",
    "    \n",
    "    # SOLUTION: Activation.\n",
    "    fc1    = tf.nn.relu(fc1)\n",
    "    \n",
    "    # Dropout\n",
    "    fc1    = tf.nn.dropout(fc1, dropout_rate)\n",
    "\n",
    "    # SOLUTION: Layer 4: Fully Connected. Input = 120. Output = 84.\n",
    "    fc2_W  = tf.Variable(tf.truncated_normal(shape=(120, 84), mean = mu, stddev = sigma))\n",
    "    fc2_b  = tf.Variable(tf.zeros(84))\n",
    "    fc2    = tf.matmul(fc1, fc2_W) + fc2_b\n",
    "    \n",
    "    # SOLUTION: Activation.\n",
    "    fc2    = tf.nn.relu(fc2)\n",
    "    \n",
    "     # Dropout\n",
    "    fc2    = tf.nn.dropout(fc2, dropout_rate)\n",
    "\n",
    "    # SOLUTION: Layer 5: Fully Connected. Input = 84. Output = 10.\n",
    "    fc3_W  = tf.Variable(tf.truncated_normal(shape=(84, 43), mean = mu, stddev = sigma))\n",
    "    fc3_b  = tf.Variable(tf.zeros(43))\n",
    "    logits = tf.matmul(fc2, fc3_W) + fc3_b\n",
    "    \n",
    "    return logits"
   ]
  },
  {
   "cell_type": "code",
   "execution_count": 11,
   "metadata": {
    "collapsed": true
   },
   "outputs": [],
   "source": [
    "x = tf.placeholder(tf.float32, (None, 32, 32, 3))\n",
    "y = tf.placeholder(tf.int32, (None))\n",
    "one_hot_y = tf.one_hot(y, 43)\n",
    "dropout_rate = tf.placeholder(tf.float32)"
   ]
  },
  {
   "cell_type": "code",
   "execution_count": 12,
   "metadata": {
    "collapsed": false
   },
   "outputs": [],
   "source": [
    "rate = 0.001\n",
    "\n",
    "logits = LeNet(x)\n",
    "cross_entropy = tf.nn.softmax_cross_entropy_with_logits(logits, one_hot_y)\n",
    "loss_operation = tf.reduce_mean(cross_entropy)\n",
    "optimizer = tf.train.AdamOptimizer(learning_rate = rate)\n",
    "training_operation = optimizer.minimize(loss_operation)"
   ]
  },
  {
   "cell_type": "code",
   "execution_count": null,
   "metadata": {
    "collapsed": false
   },
   "outputs": [],
   "source": [
    "correct_prediction = tf.equal(tf.argmax(logits, 1), tf.argmax(one_hot_y, 1))\n",
    "accuracy_operation = tf.reduce_mean(tf.cast(correct_prediction, tf.float32))\n",
    "saver = tf.train.Saver()\n",
    "\n",
    "def evaluate(X_data, y_data):\n",
    "    num_examples = len(X_data)\n",
    "    total_accuracy = 0\n",
    "    sess = tf.get_default_session()\n",
    "    for offset in range(0, num_examples, BATCH_SIZE):\n",
    "        batch_x, batch_y = X_data[offset:offset+BATCH_SIZE], y_data[offset:offset+BATCH_SIZE]\n",
    "        accuracy = sess.run(accuracy_operation, feed_dict={x: batch_x, y: batch_y, dropout_rate: 1.0})\n",
    "        total_accuracy += (accuracy * len(batch_x))\n",
    "    return total_accuracy / num_examples"
   ]
  },
  {
   "cell_type": "markdown",
   "metadata": {},
   "source": [
    "### Question 3\n",
    "\n",
    "_What does your final architecture look like? (Type of model, layers, sizes, connectivity, etc.)  For reference on how to build a deep neural network using TensorFlow, see [Deep Neural Network in TensorFlow\n",
    "](https://classroom.udacity.com/nanodegrees/nd013/parts/fbf77062-5703-404e-b60c-95b78b2f3f9e/modules/6df7ae49-c61c-4bb2-a23e-6527e69209ec/lessons/b516a270-8600-4f93-a0a3-20dfeabe5da6/concepts/83a3a2a2-a9bd-4b7b-95b0-eb924ab14432) from the classroom._\n"
   ]
  },
  {
   "cell_type": "markdown",
   "metadata": {},
   "source": [
    "**Answer:**"
   ]
  },
  {
   "cell_type": "markdown",
   "metadata": {},
   "source": [
    "I started out with the LeNet convolutional network, which we ended up with in the lectures. The reason for this is that it performed rather well on the images, with 2 convolutional layers, and 3 fully connected layers.\n",
    "\n",
    "**Addition 1 after review** \n",
    "\n",
    "_Required_\n",
    "\n",
    "_The rubric requires that for Question 3, the answer contains a description of the final architecture._\n",
    "\n",
    "_I understand that LeNet has quite a simple architecture, but the idea here is that you describe your final work as a means to measure your understanding of what's going on there._\n",
    "\n",
    "_Adding a description of the layers and their most important parameters is enough._\n",
    "\n",
    "\n",
    "The review required me to go into deeper detail in what the, or rather: my, LeNet architecture looked like in detail. \n",
    "- **2 convolutional layers, each in its followed by an ReLu and a pooling function (basically, the hidden functions)**: the basic idea of a convolutional network (in image processing) is that you basically combine a cluster of pixels from the original image, into a smaller (width and height are smaller) yet 'deeper' (there is more depth) filter. Actually, theoretically, you are expressing what happens in your brain when you see and identify an object: instead of each neuron to work on its own, neurons tend to cluster together, to identify concepts. Furthermore, concepts on a lower level can be combined to concepts on a higher level. We've seen an example of this in the lecture, where parts of an image of a labrador were first identified on a lower level, combining neighbouring pixels. Later on, in the following convolutional network, the same sort of combination was done, to identify higher level concepts. The math is also simpler, by consequence: instead of having each pixel have its own weight, weights are shared for multiple pixels. That means that in essence, we need less parameters for our neural network. We have always worked with 32x32x3 images, but imagine what a 1920x1080x3 image would do to your parameter space.\n",
    "In Tensorflow, the parameters used are: \n",
    "    - x, being the input tensor to the layer\n",
    "    - conv_W, the weights, which in this case consist of a tensor of random values from a normal distribution, with mean 0 and sd 0.1 . In Tensorflow, this means moreover that values whose magnitude is larger than 2 times the standard deviation, they are repicked.\n",
    "    - the stride, which we set to 1\n",
    "    - 'VALID' padding: I particulary stuck with 'VALID', since I understood that this makes the math easier, though I have to admit: I have not tried to go with 'SAME' here. \n",
    "    - the bias, conv_b, which is essentially zero (a matrix, which consists of 0's).\n",
    "\n",
    "The ReLu is present as an activation function. This has 2 functions: (1) turning off any negative weights; (2) making the complete network non-linear, which allows it to solve more complex problem (as opposed to a linear network, which can be composed as multiple linear steps, but end up being ... well, as 1 big linear function). A sigmoid is a function we also have seen in the lectures, but in the last few years, the rectifier function has shown itself as the most popular and the most efficient in convolutional networks. I have to admit here, I stuck with the ReLu as is. \n",
    "    - The parameter for this function is simply the output of the convolutional layer.\n",
    "\n",
    "The pooling function helps to prevent overfitting to the training data, and also reduces the number of parameters, so the computation goes faster. I switched to avgpool here (instead of maxpool), because I got better results on the accuracy (see initial discussion below).\n",
    "In Tensorflow, following parameters are used: \n",
    "    - the input layer, namely: the output of the ReLu\n",
    "    - ksize: the size of the window for the pooling \n",
    "    - strides: the size of the strides \n",
    "    - padding: I went for 'VALID' here, mainly for the same reasons as above\n",
    "\n",
    "- **A flatten function**: the flatten function flattens the 3D tensor, which is the result from the previous 2 convolutional layers, keeping the batches, and flattening all the other dimensions into the second dimension of the output tensor. This resuls in a 2D tensor, which can be used a input for the fully connected layers. The sole parameter here is the output of the previous layer.\n",
    "\n",
    "- **2 fully connected layers, each in its term followed by an activation function and a dropout function**:\n",
    "The end point of the neural network, and the place where the actual higher level reasoning is done: in the fully connected layers. The fully connected layers takes in all the neurons on the input, and connects it to every single neuron it has. In the first two runs, we use a relu and dropout as hidden layers for the networks, mostly for the same reasons as above: the turn of any negative weights, and to prevent overfitting to the data. Here, I also got the best results with avgpool.\n",
    "The parameters are the following\n",
    "    - Fully connected layer\n",
    "        - Not much parameters here, actually we're doing the same as for the convolutional layers: we construct a tensor of random values from a normal distribution, with mean 0 and sd 0.1 . After that, we perform the linear function for the fully connected layer\n",
    "    - ReLu: see above, simply the output of the fully connected layer\n",
    "    - Dropout: the tf.nn.dropout() function takes in two parameters:\n",
    "        - hidden_layer: the tensor to which we will be applying dropout\n",
    "        - keep_prob: the probability of keeping (i.e. not dropping) any given unit. For the training, I chose 0.5, whereas I chose 1.0 for the validation. This essentially means that for the training, I dropped half of the values at random, whereas I kept all the values in the validation phase. \n",
    "\n",
    "- **A final fully connected layer**:\n",
    "The final layer is a fully connected layer, and calculates the eventual logits.\n",
    "\n",
    "These are the sizes: \n",
    "* 32x32x3 -> 28x28x6 (first conv layer)\n",
    "* 28x28x6 -> 14x14x6 (after pooling)\n",
    "* 14x14x6 -> 10x10x16 (second conv layer)\n",
    "* 10x10x16 -> 5x5x16 (after pooling)\n",
    "* 5x5x16 -> 400 (flatten function)\n",
    "* 400 -> 120 (first fully connected layer)\n",
    "* 120 -> 84 (second fully connected layer)\n",
    "* 84 -> 10 (third fully connected layer)\n",
    "**End addition 1 after review**\n",
    "\n",
    "First addition I made, was to add a dropout layer to the first 2 fully connected layers, to prevent overfitting. Validation accuracy went up, but at first, the test accuracy only marginally went up. The numbers were less far apart though, so less overfitting to the data was done, which was the whole point of adding the dropout. \n",
    "\n",
    "Second addition I made, was switching the maxpool to the avgpool. I have to admit, it started out as an experiment, but it had actually a quite positive effect on my neural network: validation accuracy got up to nearly 99%, whereas the testing accuracy reached 92%+. \n",
    "\n",
    "Admittedly, I'm still learning everything here. Most of my attempts were trying to put the lectures into practice, but it still feels like I'm at the beginning of the path to confidence in using all these techniques.\n",
    "\n",
    "**Addition 2 after review**\n",
    "_Required\n",
    "\n",
    "_Why do you believe the dropout layers improved your model? What was the reason for adding those?_\n",
    "Dropout is mainly used to prevent overfitting to the training data. Before adding the dropout, I had a high accuracy number of validation (something along the lines of 92%), but the training data had a rather low number of accuracy (somewhere in the vicinity of 80%). This made me think that the network was overfitting to the training data, which was the reason why I added dropout. \n",
    "\n",
    "_Also, why do you believe this architecture is a good fit for this problem?_\n",
    "If I understood the lectures correctly, I think that LeNet is built around the convolutional and maxpooling layers. I discussed the convolutional layer above, speaking about the fact that the basic idea of a convolutional network (in image processing) is that you combine a cluster of pixels from the original image, into a smaller (width and height are smaller) yet 'deeper' (there is more depth) filter. Actually, theoretically, you are expressing what happens in your brain when you see and identify an object: instead of each neuron to work on its own, neurons tend to cluster together, to identify concepts. Furthermore, concepts on a lower level can be combined to concepts on a higher level.\n",
    "Moreover, upon going on a hunt on the internet, I passed by the Wikipedia page, which actually states that this model is based on neuro-biological work done in the 50s and 60s of the previous century. I quote from the Wikipedia page on convolutional networks: \n",
    "_Work by Hubel and Wiesel in the 1950s and 1960s showed that cat and monkey visual cortex contains neurons that individually respond to small regions of the visual field. Provided the eyes are not moving, the region of visual space within which visual stimuli affect the firing of a single neuron is known as its receptive fields. Neighboring cells have similar and overlapping receptive field. Receptive field size and location varies systematically across the cortex to form a complete map of visual space, the cortex in each hemisphere representing the contralateral visual field._\n",
    "It also stated that LeNet-5 is actually an implementation which was done specifically for reading bank cheques in 32x32 images - something I didn't even know until reading the Wikipedia page! \n",
    "So, to end up, I think the LeNet architecture (which is basically designed for this) fits the bill very well, given the fact that its built upon convolutional networks, which are specifically designed for this type of application. You could argue that LeNet itself it not important, but more the concept of first combining convolutional networks for the image processing, together with pooling (to prevent overfitting and to minimize the number of parameters); followed by fully connected neural network layers where the learning actually occurs. And as a matter of fact: you would be right :-) I simply started to built on the shoulder of giants, and started where the lecture ended. I played with a few concepts, and optimized the end point of the lecture for better results. \n",
    "\n",
    "**End addition 2 after review**"
   ]
  },
  {
   "cell_type": "code",
   "execution_count": null,
   "metadata": {
    "collapsed": false
   },
   "outputs": [
    {
     "name": "stdout",
     "output_type": "stream",
     "text": [
      "Training...\n",
      "\n",
      "EPOCH 1 ...\n",
      "Validation Accuracy = 0.405\n",
      "\n",
      "EPOCH 2 ...\n",
      "Validation Accuracy = 0.623\n",
      "\n",
      "EPOCH 3 ...\n",
      "Validation Accuracy = 0.738\n",
      "\n",
      "EPOCH 4 ...\n",
      "Validation Accuracy = 0.794\n",
      "\n",
      "EPOCH 5 ...\n",
      "Validation Accuracy = 0.835\n",
      "\n",
      "EPOCH 6 ...\n",
      "Validation Accuracy = 0.863\n",
      "\n"
     ]
    }
   ],
   "source": [
    "### Train your model here.\n",
    "### Feel free to use as many code cells as needed.\n",
    "with tf.Session() as sess:\n",
    "    sess.run(tf.initialize_all_variables())\n",
    "    num_examples = len(X_train)\n",
    "    \n",
    "    print(\"Training...\")\n",
    "    print()\n",
    "    for i in range(EPOCHS):\n",
    "        X_train, y_train = shuffle(X_train, y_train)\n",
    "        for offset in range(0, num_examples, BATCH_SIZE):\n",
    "            end = offset + BATCH_SIZE\n",
    "            batch_x, batch_y = X_train[offset:end], y_train[offset:end]\n",
    "            sess.run(training_operation, feed_dict={x: batch_x, y: batch_y, dropout_rate: 0.5})\n",
    "            \n",
    "        validation_accuracy = evaluate(X_validation, y_validation)\n",
    "        print(\"EPOCH {} ...\".format(i+1))\n",
    "        print(\"Validation Accuracy = {:.3f}\".format(validation_accuracy))\n",
    "        print()\n",
    "        \n",
    "    saver.save(sess, './lenet')\n",
    "    print(\"Model saved\")"
   ]
  },
  {
   "cell_type": "code",
   "execution_count": null,
   "metadata": {
    "collapsed": false
   },
   "outputs": [],
   "source": [
    "with tf.Session() as sess:\n",
    "    saver.restore(sess, tf.train.latest_checkpoint('.'))\n",
    "\n",
    "    test_accuracy = evaluate(X_test, y_test)\n",
    "    print(\"Test Accuracy = {:.3f}\".format(test_accuracy))"
   ]
  },
  {
   "cell_type": "markdown",
   "metadata": {},
   "source": [
    "### Question 4\n",
    "\n",
    "_How did you train your model? (Type of optimizer, batch size, epochs, hyperparameters, etc.)_\n"
   ]
  },
  {
   "cell_type": "markdown",
   "metadata": {},
   "source": [
    "**Answer:**"
   ]
  },
  {
   "cell_type": "markdown",
   "metadata": {},
   "source": [
    "Admittedly, I went trough a fair amount of trail and error in optimizing this model. \n",
    "\n",
    "First off, the optimizer. I went for the AdamOptimizer, mainly because it was present in the LeNet architecture presented to us. However, since we used the GradientDescentOptimizer before, I started looking around what were the main differences. I have to admit I'm not entirely up to speed with the algoritm behind it, but in essence it converges faster and more stable than GradientDescent does - or at least, with less hyperparameter optimizing.\n",
    "\n",
    "The epochs, I went for 15. Potentially, a much higher epoch size would help, but it would take a lot longer to compute too. I tried a few different epoch numbers, but 15 rendered the most optimal results, training the network better than with the default 10 epochs. After 15 epochs, the results didn't increase much, so I kept it at 15.\n",
    "\n",
    "For the batch sized, I stayed at 128. Perhaps higher batch sizes would make the training faster, but also more inaccurate. I got good results with 128, so I had no real incentive to adapt this value. Lower values would increase the training.\n",
    "\n",
    "Hyperparameters, I also took the suggestion presented to us. I read up a bit on the selection of hyperparameters, about manual search, grid search, random search and bayesian search, and came to the conclusion I couldn't come up with better parameters. A quick change of these values did not render better results. Given that the mean of 0 and a sd of 0.1 would mean a low variance, these values are probably good as they are. "
   ]
  },
  {
   "cell_type": "markdown",
   "metadata": {},
   "source": [
    "### Question 5\n",
    "\n",
    "\n",
    "_What approach did you take in coming up with a solution to this problem? It may have been a process of trial and error, in which case, outline the steps you took to get to the final solution and why you chose those steps. Perhaps your solution involved an already well known implementation or architecture. In this case, discuss why you think this is suitable for the current problem._"
   ]
  },
  {
   "cell_type": "markdown",
   "metadata": {},
   "source": [
    "**Answer:**"
   ]
  },
  {
   "cell_type": "markdown",
   "metadata": {},
   "source": [
    "I think I mostly covered this in my other answers.\n",
    "\n",
    "I first tried to analyse the problem from a distance. Grayscaling the images came to mind, to improve the time to calculate, and given the fact that I don't believe that color should be the determining factor, but still I stayed with the colored images. \n",
    "\n",
    "I first got the LeNet architecture in, and just started training that. Then, I tried to optimize those results with a few simple techniques that we learned in the lectures. \n",
    "- Dropout was the first I introduced\n",
    "- AvgPool was the second I introduced\n",
    "I chose these two because I could really understand what they were doing, and they were quite easy to implement. \n",
    "\n",
    "Meanwhile, I started playing with the batch size and epoch size, coming to the conclusing that 15 epochs with a batch size of 128 performed rather well. \n",
    "\n",
    "For the hyperparameters and the optimizer, I did some research on what the different options were, and what I could accomplish with altering them. \n",
    "The AdamOptimizer, all in all, seemed the best choice, given the fact that I did not have to put too much attention in optimizing the hyperparameters in order to get a good result from the algorithm. Or, better said: the algorithm didn't get much interference from me no being able to optimize these values at their best. \n",
    "The hyperparameters, I concluded that (A) I lacked a bit of knownledge on the dataset in order to optimize to the optimum; (B) I lacked knowledge as a whole to identify the optimum flat out. Therefor, I went for the \"default\" setup, and tried changing the standard deviation a bit, which did not change much. Allowing for a large standard deviation would probably cause the optimizer to run for a long time. "
   ]
  },
  {
   "cell_type": "markdown",
   "metadata": {},
   "source": [
    "---\n",
    "\n",
    "## Step 3: Test a Model on New Images\n",
    "\n",
    "Take several pictures of traffic signs that you find on the web or around you (at least five), and run them through your classifier on your computer to produce example results. The classifier might not recognize some local signs but it could prove interesting nonetheless.\n",
    "\n",
    "You may find `signnames.csv` useful as it contains mappings from the class id (integer) to the actual sign name."
   ]
  },
  {
   "cell_type": "markdown",
   "metadata": {},
   "source": [
    "### Implementation\n",
    "\n",
    "Use the code cell (or multiple code cells, if necessary) to implement the first step of your project. Once you have completed your implementation and are satisfied with the results, be sure to thoroughly answer the questions that follow."
   ]
  },
  {
   "cell_type": "code",
   "execution_count": null,
   "metadata": {
    "collapsed": false
   },
   "outputs": [],
   "source": [
    "### Load the images and plot them here.\n",
    "### Feel free to use as many code cells as needed.\n",
    "import os\n",
    "import matplotlib.image as mpimg\n",
    "images = os.listdir(\"additional_images/\")\n",
    "\n",
    "image_list = []\n",
    "for img in images:\n",
    "    img = 'additional_images/' + img\n",
    "    image = mpimg.imread(img)\n",
    "    image_list.append(image)\n",
    "    print(image.shape)\n",
    "    plt.imshow(image)\n",
    "    plt.show()"
   ]
  },
  {
   "cell_type": "markdown",
   "metadata": {},
   "source": [
    "### Question 6\n",
    "\n",
    "_Choose five candidate images of traffic signs and provide them in the report. Are there any particular qualities of the image(s) that might make classification difficult? It could be helpful to plot the images in the notebook._\n",
    "\n"
   ]
  },
  {
   "cell_type": "markdown",
   "metadata": {},
   "source": [
    "**Answer:**"
   ]
  },
  {
   "cell_type": "markdown",
   "metadata": {},
   "source": [
    "I collected a few images from Google Maps, but also some images from the internet I found to be clearer than mine. \n",
    "\n",
    "The biggest problem is probably the low resolution. The images I got from Google Maps (I actually got a lot more, but they were all like this) tend to be very blurry too. \n",
    "\n",
    "Also, the images are not taken in full frontal, so they are a bit skewed.\n",
    "\n",
    "The 70 max sign is enormously blurry, but I've put it in to put the algorithm to the test. \n",
    "\n",
    "The \"50 zone\", I just put it to see if it can make out that it's actually a speed limit sign. "
   ]
  },
  {
   "cell_type": "code",
   "execution_count": null,
   "metadata": {
    "collapsed": false
   },
   "outputs": [],
   "source": [
    "### Run the predictions here.\n",
    "### Feel free to use as many code cells as needed.\n",
    "image_list = np.array(image_list)\n",
    "\n",
    "with tf.Session() as sess:\n",
    "    saver.restore(sess, tf.train.latest_checkpoint('.'))\n",
    "\n",
    "    result = sess.run(logits, feed_dict={x: image_list, dropout_rate : 1.0})"
   ]
  },
  {
   "cell_type": "markdown",
   "metadata": {},
   "source": [
    "### Question 7\n",
    "\n",
    "_Is your model able to perform equally well on captured pictures when compared to testing on the dataset? The simplest way to do this check the accuracy of the predictions. For example, if the model predicted 1 out of 5 signs correctly, it's 20% accurate._\n",
    "\n",
    "_**NOTE:** You could check the accuracy manually by using `signnames.csv` (same directory). This file has a mapping from the class id (0-42) to the corresponding sign name. So, you could take the class id the model outputs, lookup the name in `signnames.csv` and see if it matches the sign from the image._\n"
   ]
  },
  {
   "cell_type": "markdown",
   "metadata": {},
   "source": [
    "**Answer:**"
   ]
  },
  {
   "cell_type": "markdown",
   "metadata": {},
   "source": [
    "(this was written at a certain point in time -- it seems that each run, the results differ)\n",
    "\n",
    "Well, to be fair, the algorithm was more or less 40-60% accurate here. \n",
    "\n",
    "The priority and roundabout signs, it found them flat out. \n",
    "The extremely blurry 70 max sign, against all odds, it found out that it was a speed limit sign, and its second guess was a 70km/h sign. \n",
    "\n",
    "But considering the 92% the algorithm scored on the test set, we should look for improvements. "
   ]
  },
  {
   "cell_type": "code",
   "execution_count": null,
   "metadata": {
    "collapsed": false
   },
   "outputs": [],
   "source": [
    "### Visualize the softmax probabilities here.\n",
    "### Feel free to use as many code cells as needed.\n",
    "with tf.Session() as sess:\n",
    "    predictions = sess.run(tf.nn.top_k(result, k=5, sorted=True))\n",
    "    \n",
    "for i in range(len(predictions[0])):\n",
    "    print('Image', i, '\\nPredictions:', predictions[0][i], '\\nPredicted classes:', predictions[1][i])"
   ]
  },
  {
   "cell_type": "markdown",
   "metadata": {},
   "source": [
    "### Question 8\n",
    "\n",
    "*Use the model's softmax probabilities to visualize the **certainty** of its predictions, [`tf.nn.top_k`](https://www.tensorflow.org/versions/r0.12/api_docs/python/nn.html#top_k) could prove helpful here. Which predictions is the model certain of? Uncertain? If the model was incorrect in its initial prediction, does the correct prediction appear in the top k? (k should be 5 at most)*\n",
    "\n",
    "`tf.nn.top_k` will return the values and indices (class ids) of the top k predictions. So if k=3, for each sign, it'll return the 3 largest probabilities (out of a possible 43) and the correspoding class ids.\n",
    "\n",
    "Take this numpy array as an example:\n",
    "\n",
    "```\n",
    "# (5, 6) array\n",
    "a = np.array([[ 0.24879643,  0.07032244,  0.12641572,  0.34763842,  0.07893497,\n",
    "         0.12789202],\n",
    "       [ 0.28086119,  0.27569815,  0.08594638,  0.0178669 ,  0.18063401,\n",
    "         0.15899337],\n",
    "       [ 0.26076848,  0.23664738,  0.08020603,  0.07001922,  0.1134371 ,\n",
    "         0.23892179],\n",
    "       [ 0.11943333,  0.29198961,  0.02605103,  0.26234032,  0.1351348 ,\n",
    "         0.16505091],\n",
    "       [ 0.09561176,  0.34396535,  0.0643941 ,  0.16240774,  0.24206137,\n",
    "         0.09155967]])\n",
    "```\n",
    "\n",
    "Running it through `sess.run(tf.nn.top_k(tf.constant(a), k=3))` produces:\n",
    "\n",
    "```\n",
    "TopKV2(values=array([[ 0.34763842,  0.24879643,  0.12789202],\n",
    "       [ 0.28086119,  0.27569815,  0.18063401],\n",
    "       [ 0.26076848,  0.23892179,  0.23664738],\n",
    "       [ 0.29198961,  0.26234032,  0.16505091],\n",
    "       [ 0.34396535,  0.24206137,  0.16240774]]), indices=array([[3, 0, 5],\n",
    "       [0, 1, 4],\n",
    "       [0, 5, 1],\n",
    "       [1, 3, 5],\n",
    "       [1, 4, 3]], dtype=int32))\n",
    "```\n",
    "\n",
    "Looking just at the first row we get `[ 0.34763842,  0.24879643,  0.12789202]`, you can confirm these are the 3 largest probabilities in `a`. You'll also notice `[3, 0, 5]` are the corresponding indices."
   ]
  },
  {
   "cell_type": "markdown",
   "metadata": {},
   "source": [
    "**Answer:**"
   ]
  },
  {
   "cell_type": "markdown",
   "metadata": {},
   "source": [
    "(this was written at a certain point in time -- it seems that each run, the results differ)\n",
    "\n",
    "- Sign 1: Found it, top possibility\n",
    "- Sign 2: Found it, top possibility\n",
    "- Sign 3: Did not find it, not in top 5 either\n",
    "- Sign 4: Well, to be fair, in the top 5 was a speed limit for 60 km/h\n",
    "- Sign 5: Found it, 2nd possibility\n",
    "\n",
    "All in all, I have to say that the algorithm doesn't seem to be too sure of itself. \n",
    "\n",
    "Not that it's really part of this question, but it makes me wonder for a practical implementation of this traffic sign recognition. A lot of factors seem to hinder the exactness of it all. "
   ]
  },
  {
   "cell_type": "markdown",
   "metadata": {},
   "source": [
    "> **Note**: Once you have completed all of the code implementations and successfully answered each question above, you may finalize your work by exporting the iPython Notebook as an HTML document. You can do this by using the menu above and navigating to  \\n\",\n",
    "    \"**File -> Download as -> HTML (.html)**. Include the finished document along with this notebook as your submission."
   ]
  },
  {
   "cell_type": "code",
   "execution_count": null,
   "metadata": {
    "collapsed": true
   },
   "outputs": [],
   "source": []
  }
 ],
 "metadata": {
  "anaconda-cloud": {},
  "kernelspec": {
   "display_name": "Python 3",
   "language": "python",
   "name": "python3"
  },
  "language_info": {
   "codemirror_mode": {
    "name": "ipython",
    "version": 3
   },
   "file_extension": ".py",
   "mimetype": "text/x-python",
   "name": "python",
   "nbconvert_exporter": "python",
   "pygments_lexer": "ipython3",
   "version": "3.5.2"
  }
 },
 "nbformat": 4,
 "nbformat_minor": 1
}
